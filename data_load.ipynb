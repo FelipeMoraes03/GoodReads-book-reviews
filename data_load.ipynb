{
 "cells": [
  {
   "cell_type": "code",
   "execution_count": 1,
   "metadata": {},
   "outputs": [],
   "source": [
    "import pandas as pd\n",
    "from io import StringIO"
   ]
  },
  {
   "cell_type": "markdown",
   "metadata": {},
   "source": [
    "### Carregando o dataset"
   ]
  },
  {
   "cell_type": "code",
   "execution_count": 2,
   "metadata": {},
   "outputs": [],
   "source": [
    "def load_dataset_from_json(path: str, num_lines: int = 1000) -> pd.DataFrame:\n",
    "    \"\"\"\n",
    "    Load a dataset from a JSON file into a pandas DataFrame.\n",
    "\n",
    "    Parameters:\n",
    "    path: The file path of the JSON file to be read\n",
    "    num_lines:: The maximum number of lines to read from the file\n",
    "\n",
    "    Returns:\n",
    "    A pandas DataFrame containing the parsed data from the JSON file\n",
    "    \"\"\"\n",
    "\n",
    "    lines = []\n",
    "    with open(path, 'r') as file:\n",
    "        for i, line in enumerate(file):\n",
    "            if i >= num_lines:\n",
    "                break\n",
    "            lines.append(line.strip())\n",
    "    df = pd.read_json(StringIO('[' + ','.join(lines) + ']'), lines=False).reset_index(drop=True)\n",
    "    return df"
   ]
  },
  {
   "cell_type": "code",
   "execution_count": 3,
   "metadata": {},
   "outputs": [],
   "source": [
    "num_lines = 500000\n",
    "\n",
    "df_authors = load_dataset_from_json('data/goodreads_book_authors.json', num_lines)\n",
    "df_genres = load_dataset_from_json('data/goodreads_book_genres_initial.json', num_lines)\n",
    "df_books = load_dataset_from_json('data/goodreads_books.json', num_lines)"
   ]
  },
  {
   "cell_type": "code",
   "execution_count": 4,
   "metadata": {},
   "outputs": [],
   "source": [
    "df_interactions = pd.read_csv('data/goodreads_interactions.csv', nrows=50000000)"
   ]
  },
  {
   "cell_type": "markdown",
   "metadata": {},
   "source": [
    "### Merge dos datasets carregados para criar um dataset mais completo"
   ]
  },
  {
   "cell_type": "markdown",
   "metadata": {},
   "source": [
    "O primeiro passo para a criação de um dataset mais completo é remover as features irrelevantes e renomear as features que possivelmente serão utilizadas futuramente para a criação de um modelo preditivo"
   ]
  },
  {
   "cell_type": "markdown",
   "metadata": {},
   "source": [
    "#### Autores"
   ]
  },
  {
   "cell_type": "code",
   "execution_count": 5,
   "metadata": {},
   "outputs": [],
   "source": [
    "df_authors.drop(['name'], axis=1, inplace=True)\n",
    "\n",
    "df_authors.rename(columns={\n",
    "    'average_rating': 'author_rating',\n",
    "    'text_reviews_count': 'author_reviews_count',\n",
    "    'ratings_count': 'author_ratings_count'},inplace=True)"
   ]
  },
  {
   "cell_type": "code",
   "execution_count": 6,
   "metadata": {},
   "outputs": [
    {
     "data": {
      "text/html": [
       "<div>\n",
       "<style scoped>\n",
       "    .dataframe tbody tr th:only-of-type {\n",
       "        vertical-align: middle;\n",
       "    }\n",
       "\n",
       "    .dataframe tbody tr th {\n",
       "        vertical-align: top;\n",
       "    }\n",
       "\n",
       "    .dataframe thead th {\n",
       "        text-align: right;\n",
       "    }\n",
       "</style>\n",
       "<table border=\"1\" class=\"dataframe\">\n",
       "  <thead>\n",
       "    <tr style=\"text-align: right;\">\n",
       "      <th></th>\n",
       "      <th>author_rating</th>\n",
       "      <th>author_id</th>\n",
       "      <th>author_reviews_count</th>\n",
       "      <th>author_ratings_count</th>\n",
       "    </tr>\n",
       "  </thead>\n",
       "  <tbody>\n",
       "    <tr>\n",
       "      <th>0</th>\n",
       "      <td>3.98</td>\n",
       "      <td>604031</td>\n",
       "      <td>7</td>\n",
       "      <td>49</td>\n",
       "    </tr>\n",
       "    <tr>\n",
       "      <th>1</th>\n",
       "      <td>4.08</td>\n",
       "      <td>626222</td>\n",
       "      <td>28716</td>\n",
       "      <td>546796</td>\n",
       "    </tr>\n",
       "    <tr>\n",
       "      <th>2</th>\n",
       "      <td>3.92</td>\n",
       "      <td>10333</td>\n",
       "      <td>5075</td>\n",
       "      <td>122118</td>\n",
       "    </tr>\n",
       "    <tr>\n",
       "      <th>3</th>\n",
       "      <td>3.68</td>\n",
       "      <td>9212</td>\n",
       "      <td>36262</td>\n",
       "      <td>888522</td>\n",
       "    </tr>\n",
       "    <tr>\n",
       "      <th>4</th>\n",
       "      <td>3.82</td>\n",
       "      <td>149918</td>\n",
       "      <td>96</td>\n",
       "      <td>1740</td>\n",
       "    </tr>\n",
       "  </tbody>\n",
       "</table>\n",
       "</div>"
      ],
      "text/plain": [
       "   author_rating  author_id  author_reviews_count  author_ratings_count\n",
       "0           3.98     604031                     7                    49\n",
       "1           4.08     626222                 28716                546796\n",
       "2           3.92      10333                  5075                122118\n",
       "3           3.68       9212                 36262                888522\n",
       "4           3.82     149918                    96                  1740"
      ]
     },
     "execution_count": 6,
     "metadata": {},
     "output_type": "execute_result"
    }
   ],
   "source": [
    "df_authors.head()"
   ]
  },
  {
   "cell_type": "code",
   "execution_count": 7,
   "metadata": {},
   "outputs": [
    {
     "data": {
      "text/plain": [
       "author_rating           float64\n",
       "author_id                 int64\n",
       "author_reviews_count      int64\n",
       "author_ratings_count      int64\n",
       "dtype: object"
      ]
     },
     "execution_count": 7,
     "metadata": {},
     "output_type": "execute_result"
    }
   ],
   "source": [
    "# Verificando os tipos das colunas do dataframe\n",
    "df_authors.dtypes"
   ]
  },
  {
   "cell_type": "markdown",
   "metadata": {},
   "source": [
    "#### Gêneros"
   ]
  },
  {
   "cell_type": "markdown",
   "metadata": {},
   "source": [
    "Para a simplificação do modelo, o gênero a ser considerado de cada livro vai ser apenas o gênero principal do livro, ou seja, o primeiro gênero presente na coluna"
   ]
  },
  {
   "cell_type": "code",
   "execution_count": 8,
   "metadata": {},
   "outputs": [],
   "source": [
    "df_genres['genres'] = df_genres['genres'].apply(lambda x: next(iter(x.keys())) if isinstance(x, dict) and x else None)"
   ]
  },
  {
   "cell_type": "code",
   "execution_count": 9,
   "metadata": {},
   "outputs": [],
   "source": [
    "df_genres.rename(columns={'genres': 'book_genre'},inplace=True)"
   ]
  },
  {
   "cell_type": "code",
   "execution_count": 10,
   "metadata": {},
   "outputs": [
    {
     "data": {
      "text/html": [
       "<div>\n",
       "<style scoped>\n",
       "    .dataframe tbody tr th:only-of-type {\n",
       "        vertical-align: middle;\n",
       "    }\n",
       "\n",
       "    .dataframe tbody tr th {\n",
       "        vertical-align: top;\n",
       "    }\n",
       "\n",
       "    .dataframe thead th {\n",
       "        text-align: right;\n",
       "    }\n",
       "</style>\n",
       "<table border=\"1\" class=\"dataframe\">\n",
       "  <thead>\n",
       "    <tr style=\"text-align: right;\">\n",
       "      <th></th>\n",
       "      <th>book_id</th>\n",
       "      <th>book_genre</th>\n",
       "    </tr>\n",
       "  </thead>\n",
       "  <tbody>\n",
       "    <tr>\n",
       "      <th>0</th>\n",
       "      <td>5333265</td>\n",
       "      <td>history, historical fiction, biography</td>\n",
       "    </tr>\n",
       "    <tr>\n",
       "      <th>1</th>\n",
       "      <td>1333909</td>\n",
       "      <td>fiction</td>\n",
       "    </tr>\n",
       "    <tr>\n",
       "      <th>2</th>\n",
       "      <td>7327624</td>\n",
       "      <td>fantasy, paranormal</td>\n",
       "    </tr>\n",
       "    <tr>\n",
       "      <th>3</th>\n",
       "      <td>6066819</td>\n",
       "      <td>fiction</td>\n",
       "    </tr>\n",
       "    <tr>\n",
       "      <th>4</th>\n",
       "      <td>287140</td>\n",
       "      <td>non-fiction</td>\n",
       "    </tr>\n",
       "  </tbody>\n",
       "</table>\n",
       "</div>"
      ],
      "text/plain": [
       "   book_id                              book_genre\n",
       "0  5333265  history, historical fiction, biography\n",
       "1  1333909                                 fiction\n",
       "2  7327624                     fantasy, paranormal\n",
       "3  6066819                                 fiction\n",
       "4   287140                             non-fiction"
      ]
     },
     "execution_count": 10,
     "metadata": {},
     "output_type": "execute_result"
    }
   ],
   "source": [
    "df_genres.head()"
   ]
  },
  {
   "cell_type": "code",
   "execution_count": 11,
   "metadata": {},
   "outputs": [
    {
     "data": {
      "text/plain": [
       "book_id        int64\n",
       "book_genre    object\n",
       "dtype: object"
      ]
     },
     "execution_count": 11,
     "metadata": {},
     "output_type": "execute_result"
    }
   ],
   "source": [
    "# Verificando os tipos das colunas do dataframe\n",
    "df_genres.dtypes"
   ]
  },
  {
   "cell_type": "markdown",
   "metadata": {},
   "source": [
    "#### Livros"
   ]
  },
  {
   "cell_type": "markdown",
   "metadata": {},
   "source": [
    "Assim como nos gêneros de cada livro, o autor considerado vai ser apena o autor principal, ou seja, o primeiro autor presente na coluna"
   ]
  },
  {
   "cell_type": "code",
   "execution_count": 12,
   "metadata": {},
   "outputs": [],
   "source": [
    "df_books.drop(['isbn', 'series', 'popular_shelves', 'asin', 'kindle_asin', 'description', 'link', 'publisher', 'publication_day',\n",
    "               'isbn13', 'publication_month', 'similar_books', 'edition_information', 'url', 'image_url', 'work_id',\n",
    "               'title', 'country_code'], axis=1, inplace=True)\n",
    "\n",
    "df_books['authors'] = df_books['authors'].apply(lambda x: x[0]['author_id'] if isinstance(x, list) and len(x) > 0 else None)"
   ]
  },
  {
   "cell_type": "code",
   "execution_count": 13,
   "metadata": {},
   "outputs": [],
   "source": [
    "df_books.rename(columns={\n",
    "    'authors': 'author_id',\n",
    "    'text_reviews_count': 'book_text_reviews_count',\n",
    "    'average_rating': 'book_rating',\n",
    "    'format': 'book_format',\n",
    "    'ratings_count': 'book_ratings_count',\n",
    "    'title_without_series': 'book_title'\n",
    "    }, inplace=True)"
   ]
  },
  {
   "cell_type": "code",
   "execution_count": 14,
   "metadata": {},
   "outputs": [
    {
     "data": {
      "text/html": [
       "<div>\n",
       "<style scoped>\n",
       "    .dataframe tbody tr th:only-of-type {\n",
       "        vertical-align: middle;\n",
       "    }\n",
       "\n",
       "    .dataframe tbody tr th {\n",
       "        vertical-align: top;\n",
       "    }\n",
       "\n",
       "    .dataframe thead th {\n",
       "        text-align: right;\n",
       "    }\n",
       "</style>\n",
       "<table border=\"1\" class=\"dataframe\">\n",
       "  <thead>\n",
       "    <tr style=\"text-align: right;\">\n",
       "      <th></th>\n",
       "      <th>book_text_reviews_count</th>\n",
       "      <th>language_code</th>\n",
       "      <th>is_ebook</th>\n",
       "      <th>book_rating</th>\n",
       "      <th>book_format</th>\n",
       "      <th>author_id</th>\n",
       "      <th>num_pages</th>\n",
       "      <th>publication_year</th>\n",
       "      <th>book_id</th>\n",
       "      <th>book_ratings_count</th>\n",
       "      <th>book_title</th>\n",
       "    </tr>\n",
       "  </thead>\n",
       "  <tbody>\n",
       "    <tr>\n",
       "      <th>0</th>\n",
       "      <td>1</td>\n",
       "      <td></td>\n",
       "      <td>false</td>\n",
       "      <td>4.00</td>\n",
       "      <td>Paperback</td>\n",
       "      <td>604031</td>\n",
       "      <td>256</td>\n",
       "      <td>1984</td>\n",
       "      <td>5333265</td>\n",
       "      <td>3</td>\n",
       "      <td>W.C. Fields: A Life on Film</td>\n",
       "    </tr>\n",
       "    <tr>\n",
       "      <th>1</th>\n",
       "      <td>6</td>\n",
       "      <td></td>\n",
       "      <td>false</td>\n",
       "      <td>3.23</td>\n",
       "      <td>Audio CD</td>\n",
       "      <td>626222</td>\n",
       "      <td></td>\n",
       "      <td>2001</td>\n",
       "      <td>1333909</td>\n",
       "      <td>10</td>\n",
       "      <td>Good Harbor</td>\n",
       "    </tr>\n",
       "    <tr>\n",
       "      <th>2</th>\n",
       "      <td>7</td>\n",
       "      <td>eng</td>\n",
       "      <td>false</td>\n",
       "      <td>4.03</td>\n",
       "      <td>Hardcover</td>\n",
       "      <td>10333</td>\n",
       "      <td>600</td>\n",
       "      <td>1987</td>\n",
       "      <td>7327624</td>\n",
       "      <td>140</td>\n",
       "      <td>The Unschooled Wizard (Sun Wolf and Starhawk, ...</td>\n",
       "    </tr>\n",
       "    <tr>\n",
       "      <th>3</th>\n",
       "      <td>3282</td>\n",
       "      <td>eng</td>\n",
       "      <td>false</td>\n",
       "      <td>3.49</td>\n",
       "      <td>Hardcover</td>\n",
       "      <td>9212</td>\n",
       "      <td>368</td>\n",
       "      <td>2009</td>\n",
       "      <td>6066819</td>\n",
       "      <td>51184</td>\n",
       "      <td>Best Friends Forever</td>\n",
       "    </tr>\n",
       "    <tr>\n",
       "      <th>4</th>\n",
       "      <td>5</td>\n",
       "      <td></td>\n",
       "      <td>false</td>\n",
       "      <td>3.40</td>\n",
       "      <td></td>\n",
       "      <td>149918</td>\n",
       "      <td></td>\n",
       "      <td></td>\n",
       "      <td>287140</td>\n",
       "      <td>15</td>\n",
       "      <td>Runic Astrology: Starcraft and Timekeeping in ...</td>\n",
       "    </tr>\n",
       "  </tbody>\n",
       "</table>\n",
       "</div>"
      ],
      "text/plain": [
       "  book_text_reviews_count language_code is_ebook book_rating book_format  \\\n",
       "0                       1                  false        4.00   Paperback   \n",
       "1                       6                  false        3.23    Audio CD   \n",
       "2                       7           eng    false        4.03   Hardcover   \n",
       "3                    3282           eng    false        3.49   Hardcover   \n",
       "4                       5                  false        3.40               \n",
       "\n",
       "  author_id num_pages publication_year  book_id book_ratings_count  \\\n",
       "0    604031       256             1984  5333265                  3   \n",
       "1    626222                       2001  1333909                 10   \n",
       "2     10333       600             1987  7327624                140   \n",
       "3      9212       368             2009  6066819              51184   \n",
       "4    149918                              287140                 15   \n",
       "\n",
       "                                          book_title  \n",
       "0                        W.C. Fields: A Life on Film  \n",
       "1                                        Good Harbor  \n",
       "2  The Unschooled Wizard (Sun Wolf and Starhawk, ...  \n",
       "3                               Best Friends Forever  \n",
       "4  Runic Astrology: Starcraft and Timekeeping in ...  "
      ]
     },
     "execution_count": 14,
     "metadata": {},
     "output_type": "execute_result"
    }
   ],
   "source": [
    "df_books.head()"
   ]
  },
  {
   "cell_type": "code",
   "execution_count": 15,
   "metadata": {},
   "outputs": [
    {
     "data": {
      "text/plain": [
       "book_text_reviews_count    object\n",
       "language_code              object\n",
       "is_ebook                   object\n",
       "book_rating                object\n",
       "book_format                object\n",
       "author_id                  object\n",
       "num_pages                  object\n",
       "publication_year           object\n",
       "book_id                     int64\n",
       "book_ratings_count         object\n",
       "book_title                 object\n",
       "dtype: object"
      ]
     },
     "execution_count": 15,
     "metadata": {},
     "output_type": "execute_result"
    }
   ],
   "source": [
    "# Verificando os tipos das colunas do dataframe\n",
    "df_books.dtypes"
   ]
  },
  {
   "cell_type": "markdown",
   "metadata": {},
   "source": [
    "Além disso, é interessante alterar o tipo deas colunas que possuem valor numérico"
   ]
  },
  {
   "cell_type": "code",
   "execution_count": 16,
   "metadata": {},
   "outputs": [],
   "source": [
    "df_books['book_text_reviews_count'] = pd.to_numeric(df_books['book_text_reviews_count'], errors='coerce').astype('Int64')\n",
    "df_books['book_rating'] = pd.to_numeric(df_books['book_rating'], errors='coerce').astype('float64')\n",
    "df_books['author_id'] = pd.to_numeric(df_books['author_id'], errors='coerce').astype('Int64')\n",
    "df_books['num_pages'] = pd.to_numeric(df_books['num_pages'], errors='coerce').astype('Int64')\n",
    "df_books['publication_year'] = pd.to_numeric(df_books['publication_year'], errors='coerce').astype('Int64')\n",
    "df_books['book_ratings_count'] = pd.to_numeric(df_books['book_ratings_count'], errors='coerce').astype('Int64')"
   ]
  },
  {
   "cell_type": "code",
   "execution_count": 17,
   "metadata": {},
   "outputs": [
    {
     "data": {
      "text/plain": [
       "book_text_reviews_count      Int64\n",
       "language_code               object\n",
       "is_ebook                    object\n",
       "book_rating                float64\n",
       "book_format                 object\n",
       "author_id                    Int64\n",
       "num_pages                    Int64\n",
       "publication_year             Int64\n",
       "book_id                      int64\n",
       "book_ratings_count           Int64\n",
       "book_title                  object\n",
       "dtype: object"
      ]
     },
     "execution_count": 17,
     "metadata": {},
     "output_type": "execute_result"
    }
   ],
   "source": [
    "# Verificando os tipos das colunas do dataframe\n",
    "df_books.dtypes"
   ]
  },
  {
   "cell_type": "markdown",
   "metadata": {},
   "source": [
    "#### Interações"
   ]
  },
  {
   "cell_type": "code",
   "execution_count": 18,
   "metadata": {},
   "outputs": [
    {
     "data": {
      "text/html": [
       "<div>\n",
       "<style scoped>\n",
       "    .dataframe tbody tr th:only-of-type {\n",
       "        vertical-align: middle;\n",
       "    }\n",
       "\n",
       "    .dataframe tbody tr th {\n",
       "        vertical-align: top;\n",
       "    }\n",
       "\n",
       "    .dataframe thead th {\n",
       "        text-align: right;\n",
       "    }\n",
       "</style>\n",
       "<table border=\"1\" class=\"dataframe\">\n",
       "  <thead>\n",
       "    <tr style=\"text-align: right;\">\n",
       "      <th></th>\n",
       "      <th>user_id</th>\n",
       "      <th>book_id</th>\n",
       "      <th>is_read</th>\n",
       "      <th>rating</th>\n",
       "      <th>is_reviewed</th>\n",
       "    </tr>\n",
       "  </thead>\n",
       "  <tbody>\n",
       "    <tr>\n",
       "      <th>0</th>\n",
       "      <td>0</td>\n",
       "      <td>948</td>\n",
       "      <td>1</td>\n",
       "      <td>5</td>\n",
       "      <td>0</td>\n",
       "    </tr>\n",
       "    <tr>\n",
       "      <th>1</th>\n",
       "      <td>0</td>\n",
       "      <td>947</td>\n",
       "      <td>1</td>\n",
       "      <td>5</td>\n",
       "      <td>1</td>\n",
       "    </tr>\n",
       "    <tr>\n",
       "      <th>2</th>\n",
       "      <td>0</td>\n",
       "      <td>946</td>\n",
       "      <td>1</td>\n",
       "      <td>5</td>\n",
       "      <td>0</td>\n",
       "    </tr>\n",
       "    <tr>\n",
       "      <th>3</th>\n",
       "      <td>0</td>\n",
       "      <td>945</td>\n",
       "      <td>1</td>\n",
       "      <td>5</td>\n",
       "      <td>0</td>\n",
       "    </tr>\n",
       "    <tr>\n",
       "      <th>4</th>\n",
       "      <td>0</td>\n",
       "      <td>944</td>\n",
       "      <td>1</td>\n",
       "      <td>5</td>\n",
       "      <td>0</td>\n",
       "    </tr>\n",
       "  </tbody>\n",
       "</table>\n",
       "</div>"
      ],
      "text/plain": [
       "   user_id  book_id  is_read  rating  is_reviewed\n",
       "0        0      948        1       5            0\n",
       "1        0      947        1       5            1\n",
       "2        0      946        1       5            0\n",
       "3        0      945        1       5            0\n",
       "4        0      944        1       5            0"
      ]
     },
     "execution_count": 18,
     "metadata": {},
     "output_type": "execute_result"
    }
   ],
   "source": [
    "df_interactions.head()"
   ]
  },
  {
   "cell_type": "code",
   "execution_count": 19,
   "metadata": {},
   "outputs": [
    {
     "data": {
      "text/plain": [
       "user_id        int64\n",
       "book_id        int64\n",
       "is_read        int64\n",
       "rating         int64\n",
       "is_reviewed    int64\n",
       "dtype: object"
      ]
     },
     "execution_count": 19,
     "metadata": {},
     "output_type": "execute_result"
    }
   ],
   "source": [
    "# Verificando os tipos das colunas do dataframe\n",
    "df_interactions.dtypes"
   ]
  },
  {
   "cell_type": "markdown",
   "metadata": {},
   "source": [
    "### Juntanto os datasets"
   ]
  },
  {
   "cell_type": "markdown",
   "metadata": {},
   "source": [
    "O merge entre `df_books` e `df_genres` é no formato 'left' para garantir que todos os livros presentes em `df_books` sejam mantidos, mesmo que não haja correspondência deles em `df_genres`. Isso pode ser útil em etapas futuras, visto que mesmo sem a devida correspôndencia os dados dos livros podem conter outras informações úteis."
   ]
  },
  {
   "cell_type": "code",
   "execution_count": 20,
   "metadata": {},
   "outputs": [],
   "source": [
    "df_book_details = pd.merge(df_books, df_genres, on='book_id', how='left')"
   ]
  },
  {
   "cell_type": "markdown",
   "metadata": {},
   "source": [
    "Assim como no merge realizado acima, o merge entre `df_book_details` e `df_authors` é no formato 'left' para que os dados dos livros sem autores cadastrados ainda seja mantido em etapas futuras."
   ]
  },
  {
   "cell_type": "code",
   "execution_count": 21,
   "metadata": {},
   "outputs": [],
   "source": [
    "df_authors['author_id'] = df_authors['author_id'].astype('Int64')"
   ]
  },
  {
   "cell_type": "code",
   "execution_count": 22,
   "metadata": {},
   "outputs": [],
   "source": [
    "df_book_details = pd.merge(df_book_details, df_authors, on='author_id', how='left')"
   ]
  },
  {
   "cell_type": "markdown",
   "metadata": {},
   "source": [
    "Por fim é realizado o merge entre `df_book_details` e `df_interactions` no formato 'inner', pois em etapas seguintes vão ser criados modelos para prever a avaliação de um livro por um determinado usuário, então é necessário que essa correnpondência esteja presente no dataframe."
   ]
  },
  {
   "cell_type": "code",
   "execution_count": 23,
   "metadata": {},
   "outputs": [],
   "source": [
    "df = pd.merge(df_book_details, df_interactions, on='book_id', how='inner')"
   ]
  },
  {
   "cell_type": "code",
   "execution_count": 24,
   "metadata": {},
   "outputs": [
    {
     "data": {
      "text/html": [
       "<div>\n",
       "<style scoped>\n",
       "    .dataframe tbody tr th:only-of-type {\n",
       "        vertical-align: middle;\n",
       "    }\n",
       "\n",
       "    .dataframe tbody tr th {\n",
       "        vertical-align: top;\n",
       "    }\n",
       "\n",
       "    .dataframe thead th {\n",
       "        text-align: right;\n",
       "    }\n",
       "</style>\n",
       "<table border=\"1\" class=\"dataframe\">\n",
       "  <thead>\n",
       "    <tr style=\"text-align: right;\">\n",
       "      <th></th>\n",
       "      <th>book_text_reviews_count</th>\n",
       "      <th>language_code</th>\n",
       "      <th>is_ebook</th>\n",
       "      <th>book_rating</th>\n",
       "      <th>book_format</th>\n",
       "      <th>author_id</th>\n",
       "      <th>num_pages</th>\n",
       "      <th>publication_year</th>\n",
       "      <th>book_id</th>\n",
       "      <th>book_ratings_count</th>\n",
       "      <th>book_title</th>\n",
       "      <th>book_genre</th>\n",
       "      <th>author_rating</th>\n",
       "      <th>author_reviews_count</th>\n",
       "      <th>author_ratings_count</th>\n",
       "      <th>user_id</th>\n",
       "      <th>is_read</th>\n",
       "      <th>rating</th>\n",
       "      <th>is_reviewed</th>\n",
       "    </tr>\n",
       "  </thead>\n",
       "  <tbody>\n",
       "    <tr>\n",
       "      <th>0</th>\n",
       "      <td>6</td>\n",
       "      <td></td>\n",
       "      <td>false</td>\n",
       "      <td>3.23</td>\n",
       "      <td>Audio CD</td>\n",
       "      <td>626222</td>\n",
       "      <td>&lt;NA&gt;</td>\n",
       "      <td>2001</td>\n",
       "      <td>1333909</td>\n",
       "      <td>10</td>\n",
       "      <td>Good Harbor</td>\n",
       "      <td>fiction</td>\n",
       "      <td>4.08</td>\n",
       "      <td>28716.0</td>\n",
       "      <td>546796.0</td>\n",
       "      <td>38188</td>\n",
       "      <td>0</td>\n",
       "      <td>0</td>\n",
       "      <td>0</td>\n",
       "    </tr>\n",
       "    <tr>\n",
       "      <th>1</th>\n",
       "      <td>5</td>\n",
       "      <td></td>\n",
       "      <td>false</td>\n",
       "      <td>3.40</td>\n",
       "      <td></td>\n",
       "      <td>149918</td>\n",
       "      <td>&lt;NA&gt;</td>\n",
       "      <td>&lt;NA&gt;</td>\n",
       "      <td>287140</td>\n",
       "      <td>15</td>\n",
       "      <td>Runic Astrology: Starcraft and Timekeeping in ...</td>\n",
       "      <td>non-fiction</td>\n",
       "      <td>3.82</td>\n",
       "      <td>96.0</td>\n",
       "      <td>1740.0</td>\n",
       "      <td>1832</td>\n",
       "      <td>0</td>\n",
       "      <td>0</td>\n",
       "      <td>0</td>\n",
       "    </tr>\n",
       "    <tr>\n",
       "      <th>2</th>\n",
       "      <td>5</td>\n",
       "      <td></td>\n",
       "      <td>false</td>\n",
       "      <td>3.40</td>\n",
       "      <td></td>\n",
       "      <td>149918</td>\n",
       "      <td>&lt;NA&gt;</td>\n",
       "      <td>&lt;NA&gt;</td>\n",
       "      <td>287140</td>\n",
       "      <td>15</td>\n",
       "      <td>Runic Astrology: Starcraft and Timekeeping in ...</td>\n",
       "      <td>non-fiction</td>\n",
       "      <td>3.82</td>\n",
       "      <td>96.0</td>\n",
       "      <td>1740.0</td>\n",
       "      <td>2822</td>\n",
       "      <td>1</td>\n",
       "      <td>4</td>\n",
       "      <td>0</td>\n",
       "    </tr>\n",
       "    <tr>\n",
       "      <th>3</th>\n",
       "      <td>5</td>\n",
       "      <td></td>\n",
       "      <td>false</td>\n",
       "      <td>3.40</td>\n",
       "      <td></td>\n",
       "      <td>149918</td>\n",
       "      <td>&lt;NA&gt;</td>\n",
       "      <td>&lt;NA&gt;</td>\n",
       "      <td>287140</td>\n",
       "      <td>15</td>\n",
       "      <td>Runic Astrology: Starcraft and Timekeeping in ...</td>\n",
       "      <td>non-fiction</td>\n",
       "      <td>3.82</td>\n",
       "      <td>96.0</td>\n",
       "      <td>1740.0</td>\n",
       "      <td>3237</td>\n",
       "      <td>1</td>\n",
       "      <td>5</td>\n",
       "      <td>0</td>\n",
       "    </tr>\n",
       "    <tr>\n",
       "      <th>4</th>\n",
       "      <td>5</td>\n",
       "      <td></td>\n",
       "      <td>false</td>\n",
       "      <td>3.40</td>\n",
       "      <td></td>\n",
       "      <td>149918</td>\n",
       "      <td>&lt;NA&gt;</td>\n",
       "      <td>&lt;NA&gt;</td>\n",
       "      <td>287140</td>\n",
       "      <td>15</td>\n",
       "      <td>Runic Astrology: Starcraft and Timekeeping in ...</td>\n",
       "      <td>non-fiction</td>\n",
       "      <td>3.82</td>\n",
       "      <td>96.0</td>\n",
       "      <td>1740.0</td>\n",
       "      <td>3662</td>\n",
       "      <td>1</td>\n",
       "      <td>4</td>\n",
       "      <td>0</td>\n",
       "    </tr>\n",
       "  </tbody>\n",
       "</table>\n",
       "</div>"
      ],
      "text/plain": [
       "   book_text_reviews_count language_code is_ebook  book_rating book_format  \\\n",
       "0                        6                  false         3.23    Audio CD   \n",
       "1                        5                  false         3.40               \n",
       "2                        5                  false         3.40               \n",
       "3                        5                  false         3.40               \n",
       "4                        5                  false         3.40               \n",
       "\n",
       "   author_id  num_pages  publication_year  book_id  book_ratings_count  \\\n",
       "0     626222       <NA>              2001  1333909                  10   \n",
       "1     149918       <NA>              <NA>   287140                  15   \n",
       "2     149918       <NA>              <NA>   287140                  15   \n",
       "3     149918       <NA>              <NA>   287140                  15   \n",
       "4     149918       <NA>              <NA>   287140                  15   \n",
       "\n",
       "                                          book_title   book_genre  \\\n",
       "0                                        Good Harbor      fiction   \n",
       "1  Runic Astrology: Starcraft and Timekeeping in ...  non-fiction   \n",
       "2  Runic Astrology: Starcraft and Timekeeping in ...  non-fiction   \n",
       "3  Runic Astrology: Starcraft and Timekeeping in ...  non-fiction   \n",
       "4  Runic Astrology: Starcraft and Timekeeping in ...  non-fiction   \n",
       "\n",
       "   author_rating  author_reviews_count  author_ratings_count  user_id  \\\n",
       "0           4.08               28716.0              546796.0    38188   \n",
       "1           3.82                  96.0                1740.0     1832   \n",
       "2           3.82                  96.0                1740.0     2822   \n",
       "3           3.82                  96.0                1740.0     3237   \n",
       "4           3.82                  96.0                1740.0     3662   \n",
       "\n",
       "   is_read  rating  is_reviewed  \n",
       "0        0       0            0  \n",
       "1        0       0            0  \n",
       "2        1       4            0  \n",
       "3        1       5            0  \n",
       "4        1       4            0  "
      ]
     },
     "execution_count": 24,
     "metadata": {},
     "output_type": "execute_result"
    }
   ],
   "source": [
    "df.head()"
   ]
  },
  {
   "cell_type": "code",
   "execution_count": 25,
   "metadata": {},
   "outputs": [
    {
     "data": {
      "text/plain": [
       "4043883"
      ]
     },
     "execution_count": 25,
     "metadata": {},
     "output_type": "execute_result"
    }
   ],
   "source": [
    "# Verificando o número de linhas do dataframe\n",
    "df.shape[0]"
   ]
  },
  {
   "cell_type": "code",
   "execution_count": 26,
   "metadata": {},
   "outputs": [
    {
     "data": {
      "text/plain": [
       "Index(['book_text_reviews_count', 'language_code', 'is_ebook', 'book_rating',\n",
       "       'book_format', 'author_id', 'num_pages', 'publication_year', 'book_id',\n",
       "       'book_ratings_count', 'book_title', 'book_genre', 'author_rating',\n",
       "       'author_reviews_count', 'author_ratings_count', 'user_id', 'is_read',\n",
       "       'rating', 'is_reviewed'],\n",
       "      dtype='object')"
      ]
     },
     "execution_count": 26,
     "metadata": {},
     "output_type": "execute_result"
    }
   ],
   "source": [
    "# Verificando as colunas do dataframe\n",
    "df.columns"
   ]
  },
  {
   "cell_type": "markdown",
   "metadata": {},
   "source": [
    "### Salvando o Dataframe"
   ]
  },
  {
   "cell_type": "code",
   "execution_count": 27,
   "metadata": {},
   "outputs": [],
   "source": [
    "df.to_csv('data/goodreads.csv', index=False, sep=';', encoding='utf-8', header=True)"
   ]
  }
 ],
 "metadata": {
  "kernelspec": {
   "display_name": "goodreads",
   "language": "python",
   "name": "python3"
  },
  "language_info": {
   "codemirror_mode": {
    "name": "ipython",
    "version": 3
   },
   "file_extension": ".py",
   "mimetype": "text/x-python",
   "name": "python",
   "nbconvert_exporter": "python",
   "pygments_lexer": "ipython3",
   "version": "3.12.5"
  }
 },
 "nbformat": 4,
 "nbformat_minor": 2
}
